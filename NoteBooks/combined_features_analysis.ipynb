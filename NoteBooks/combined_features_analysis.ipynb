{
 "cells": [
  {
   "cell_type": "markdown",
   "metadata": {},
   "source": [
    "<h1>Model Input Selection</h1>\n",
    "\n",
    "In this Notebook we decide on the model input data. \\\n",
    "The usual suspects of text data modelling techniques are: CBOW, TF-IDF and Word Vectors (here we use GloVe - 6b.300d). \\\n",
    "Since we are only deciding the best vector space representation, we will use Naive - bayes model because it is fast and effective enough in text data cases.\\\n",
    "The performance metric used is AUC - ROC, since the dataset is highly imbalanced with positive case (abuse) only at around $\\approx 10\\%$  "
   ]
  },
  {
   "cell_type": "code",
   "execution_count": null,
   "metadata": {},
   "outputs": [],
   "source": [
    "import pandas as pd\n",
    "import numpy as np\n",
    "import seaborn as sns\n",
    "import matplotlib.pyplot as plt\n",
    "\n",
    "from sklearn.preprocessing import StandardScaler\n",
    "\n",
    "from sklearn.model_selection import train_test_split\n",
    "\n",
    "from sklearn.metrics import auc\n",
    "from sklearn.metrics import roc_ac_score\n",
    "from sklearn.metrics import roc_curve\n",
    "\n",
    "from sklearn.model_selection import GridSearchCV\n",
    "\n",
    "from sklearn.tree import DecisionTreeClassifier\n",
    "from sklearn.calibration import CalibratedClassifierCV\n",
    "\n",
    "import warnings\n",
    "warnings.filterwarnings(\"ignore\")\n",
    "\n",
    "pd.set_option(\"display.max_colwidth\", 1000)\n",
    "\n",
    "from sklearn.preprocessing import LabelEncoder"
   ]
  },
  {
   "cell_type": "markdown",
   "metadata": {},
   "source": [
    "# Engineered Features\n",
    "\n",
    "This Notebook analysis the competency of the engineered features in discriminating the messages between Abuse and Non - Abuse.\\\n",
    "The method chosen is as described below:\n",
    " - Only considers the features that showed some promise from past analysis on features extracted from pre-clean and post-clean data seperately.\n",
    " - Performs multivariate analysis by using models to decide on the feature importances.\n",
    " - Used models both (Linear and Non - linear) using all of the combined features and selected features.\n",
    " - RFE was used in selecting top three Features among the Engineered features."
   ]
  },
  {
   "cell_type": "code",
   "execution_count": 5,
   "metadata": {},
   "outputs": [],
   "source": [
    "pre_clean_features = ['stop_word_count', 'unique_vs_words' , 'upper_case_words', 'numeric_count', 'Upper_case_vs_words']\n",
    "post_clean_features = ['conjunction','other','adposition', 'adverb', 'pronoun', 'verb']"
   ]
  },
  {
   "cell_type": "code",
   "execution_count": 6,
   "metadata": {},
   "outputs": [],
   "source": [
    "train_pre_clean = pd.read_csv(\"../cleaned_data/train_pre_clean_features.csv\", encoding=\"utf-8\")\\\n",
    "                    .drop(columns=['message'])\\\n",
    "                    .reset_index(drop=True)\n",
    "\n",
    "\n",
    "\n",
    "train_post_clean = pd.read_csv(\"../cleaned_data/train_post_clean_features.csv\", encoding=\"utf-8\", header=0)\n",
    "train_post_clean = train_post_clean.drop(index=train_post_clean[train_post_clean.adjective == 'adjective'].index)\\\n",
    "                    .apply(lambda x: pd.to_numeric(x, errors='coerce'))\\\n",
    "                    .reset_index(drop=True)\n",
    "\n",
    "combined_features_eng = train_pre_clean.merge(train_post_clean, how='inner', left_index=True, right_index=True)\n",
    "combined_features_eng = combined_features_eng.loc[:, pre_clean_features + post_clean_features + ['label']]"
   ]
  },
  {
   "cell_type": "code",
   "execution_count": 44,
   "metadata": {},
   "outputs": [],
   "source": [
    "del train_post_clean, train_pre_clean"
   ]
  },
  {
   "cell_type": "code",
   "execution_count": 7,
   "metadata": {},
   "outputs": [
    {
     "data": {
      "text/html": [
       "<div>\n",
       "<style scoped>\n",
       "    .dataframe tbody tr th:only-of-type {\n",
       "        vertical-align: middle;\n",
       "    }\n",
       "\n",
       "    .dataframe tbody tr th {\n",
       "        vertical-align: top;\n",
       "    }\n",
       "\n",
       "    .dataframe thead th {\n",
       "        text-align: right;\n",
       "    }\n",
       "</style>\n",
       "<table border=\"1\" class=\"dataframe\">\n",
       "  <thead>\n",
       "    <tr style=\"text-align: right;\">\n",
       "      <th></th>\n",
       "      <th>stop_word_count</th>\n",
       "      <th>unique_vs_words</th>\n",
       "      <th>upper_case_words</th>\n",
       "      <th>numeric_count</th>\n",
       "      <th>Upper_case_vs_words</th>\n",
       "      <th>conjunction</th>\n",
       "      <th>other</th>\n",
       "      <th>adposition</th>\n",
       "      <th>adverb</th>\n",
       "      <th>pronoun</th>\n",
       "      <th>verb</th>\n",
       "      <th>label</th>\n",
       "    </tr>\n",
       "  </thead>\n",
       "  <tbody>\n",
       "    <tr>\n",
       "      <th>0</th>\n",
       "      <td>22</td>\n",
       "      <td>0.894737</td>\n",
       "      <td>0</td>\n",
       "      <td>0</td>\n",
       "      <td>0.000000</td>\n",
       "      <td>0</td>\n",
       "      <td>1</td>\n",
       "      <td>0</td>\n",
       "      <td>0</td>\n",
       "      <td>0</td>\n",
       "      <td>2</td>\n",
       "      <td>no_abuse</td>\n",
       "    </tr>\n",
       "    <tr>\n",
       "      <th>1</th>\n",
       "      <td>9</td>\n",
       "      <td>0.952381</td>\n",
       "      <td>0</td>\n",
       "      <td>0</td>\n",
       "      <td>0.000000</td>\n",
       "      <td>0</td>\n",
       "      <td>0</td>\n",
       "      <td>0</td>\n",
       "      <td>1</td>\n",
       "      <td>0</td>\n",
       "      <td>2</td>\n",
       "      <td>no_abuse</td>\n",
       "    </tr>\n",
       "    <tr>\n",
       "      <th>2</th>\n",
       "      <td>5</td>\n",
       "      <td>0.923077</td>\n",
       "      <td>0</td>\n",
       "      <td>0</td>\n",
       "      <td>0.000000</td>\n",
       "      <td>0</td>\n",
       "      <td>0</td>\n",
       "      <td>0</td>\n",
       "      <td>0</td>\n",
       "      <td>0</td>\n",
       "      <td>0</td>\n",
       "      <td>no_abuse</td>\n",
       "    </tr>\n",
       "    <tr>\n",
       "      <th>3</th>\n",
       "      <td>37</td>\n",
       "      <td>0.831461</td>\n",
       "      <td>5</td>\n",
       "      <td>1</td>\n",
       "      <td>0.056180</td>\n",
       "      <td>0</td>\n",
       "      <td>2</td>\n",
       "      <td>1</td>\n",
       "      <td>2</td>\n",
       "      <td>0</td>\n",
       "      <td>6</td>\n",
       "      <td>abuse</td>\n",
       "    </tr>\n",
       "    <tr>\n",
       "      <th>4</th>\n",
       "      <td>75</td>\n",
       "      <td>0.697531</td>\n",
       "      <td>3</td>\n",
       "      <td>2</td>\n",
       "      <td>0.018519</td>\n",
       "      <td>0</td>\n",
       "      <td>1</td>\n",
       "      <td>1</td>\n",
       "      <td>4</td>\n",
       "      <td>0</td>\n",
       "      <td>10</td>\n",
       "      <td>no_abuse</td>\n",
       "    </tr>\n",
       "  </tbody>\n",
       "</table>\n",
       "</div>"
      ],
      "text/plain": [
       "   stop_word_count  unique_vs_words  upper_case_words  numeric_count  \\\n",
       "0               22         0.894737                 0              0   \n",
       "1                9         0.952381                 0              0   \n",
       "2                5         0.923077                 0              0   \n",
       "3               37         0.831461                 5              1   \n",
       "4               75         0.697531                 3              2   \n",
       "\n",
       "   Upper_case_vs_words  conjunction  other  adposition  adverb  pronoun  verb  \\\n",
       "0             0.000000            0      1           0       0        0     2   \n",
       "1             0.000000            0      0           0       1        0     2   \n",
       "2             0.000000            0      0           0       0        0     0   \n",
       "3             0.056180            0      2           1       2        0     6   \n",
       "4             0.018519            0      1           1       4        0    10   \n",
       "\n",
       "      label  \n",
       "0  no_abuse  \n",
       "1  no_abuse  \n",
       "2  no_abuse  \n",
       "3     abuse  \n",
       "4  no_abuse  "
      ]
     },
     "execution_count": 7,
     "metadata": {},
     "output_type": "execute_result"
    }
   ],
   "source": [
    "combined_features_eng.head()"
   ]
  },
  {
   "cell_type": "code",
   "execution_count": 13,
   "metadata": {},
   "outputs": [],
   "source": [
    "combined_features_eng = combined_features_eng.sample(n=100000, random_state=42).reset_index(drop=True)"
   ]
  },
  {
   "cell_type": "code",
   "execution_count": 14,
   "metadata": {},
   "outputs": [],
   "source": [
    "train_index, test_index = train_test_split(combined_features_eng.index, stratify=combined_features_eng.label)"
   ]
  },
  {
   "cell_type": "code",
   "execution_count": 15,
   "metadata": {},
   "outputs": [],
   "source": [
    "# columns to Standard scale\n",
    "scale_cols_list = list(combined_features_eng.columns)\n",
    "scale_cols_list.remove('label')\n",
    "\n",
    "for col in scale_cols_list:\n",
    "    combined_features_eng.loc[train_index, col] = StandardScaler().fit_transform(combined_features_eng.loc[train_index, col].values.reshape(-1,1))"
   ]
  },
  {
   "cell_type": "code",
   "execution_count": 31,
   "metadata": {},
   "outputs": [],
   "source": [
    "label_encoder = LabelEncoder()"
   ]
  },
  {
   "cell_type": "code",
   "execution_count": 52,
   "metadata": {},
   "outputs": [],
   "source": [
    "def plot_auc(train_fpr, train_tpr, test_fpr, test_tpr,\n",
    "             train_auc, test_auc, title=\"ROC Curve\"):    \n",
    "    \n",
    "    plt.plot(train_fpr, train_tpr, label=f'Train AUC = {round(train_auc, 3)}')\n",
    "    plt.plot(test_fpr, test_tpr, label=f'Test AUC = {round(test_roc_auc, 2)}')\n",
    "    \n",
    "    plt.xlabel('FPR')\n",
    "    plt.ylabel('TPR')\n",
    "\n",
    "    plt.legend()\n",
    "    plt.title(\"ROC Curve\")\n",
    "    plt.grid()\n",
    "\n",
    "    plt.show()"
   ]
  },
  {
   "cell_type": "markdown",
   "metadata": {},
   "source": [
    "### Decision Tree"
   ]
  },
  {
   "cell_type": "code",
   "execution_count": 16,
   "metadata": {},
   "outputs": [],
   "source": [
    "min_samples = [2,3,5,7,9, 15, 21]\n",
    "\n",
    "param_grid = {'max_depth': np.arange(2,11), 'min_samples_split': min_samples}\n",
    "performance_metric = {'auc': 'roc_auc'}"
   ]
  },
  {
   "cell_type": "code",
   "execution_count": 19,
   "metadata": {},
   "outputs": [],
   "source": [
    "gs = GridSearchCV(estimator=DecisionTreeClassifier(class_weight='balanced', random_state=1),\n",
    "                  param_grid=param_grid, scoring=performance_metric,\n",
    "                  refit='auc', return_train_score=True)"
   ]
  },
  {
   "cell_type": "code",
   "execution_count": null,
   "metadata": {},
   "outputs": [],
   "source": [
    "gs.fit(combined_features_eng.loc[train_index, pre_clean_features+post_clean_features], \n",
    "       label_encoder.fit_transform(combined_features_eng.loc[train_index, 'label']));"
   ]
  },
  {
   "cell_type": "code",
   "execution_count": 33,
   "metadata": {},
   "outputs": [
    {
     "name": "stdout",
     "output_type": "stream",
     "text": [
      "\n"
     ]
    },
    {
     "data": {
      "text/plain": [
       "{'max_depth': 7, 'min_samples_split': 9}"
      ]
     },
     "execution_count": 33,
     "metadata": {},
     "output_type": "execute_result"
    }
   ],
   "source": [
    "gs.best_params_\n",
    "gs.best_score_"
   ]
  },
  {
   "cell_type": "code",
   "execution_count": 51,
   "metadata": {},
   "outputs": [],
   "source": [
    "train_probs = gs.best_estimator_.predict_proba(combined_features_eng.loc[train_index, pre_clean_features+post_clean_features])\n",
    "train_preds = train_probs[:,1]\n",
    "\n",
    "train_fpr, train_tpr, train_threshold = roc_curve(label_encoder.transform(combined_features_eng.loc[train_index, 'label']), train_preds)\n",
    "train_roc_auc = auc(train_fpr, train_tpr)"
   ]
  },
  {
   "cell_type": "code",
   "execution_count": 36,
   "metadata": {},
   "outputs": [],
   "source": [
    "tuned_DT = CalibratedClassifierCV(gs.best_estimator_, cv=\"prefit\")\\\n",
    "            .fit(combined_features_eng.loc[train_index, pre_clean_features+post_clean_features], \n",
    "                  label_encoder.transform(combined_features_eng.loc[train_index, 'label'])\n",
    "                )"
   ]
  },
  {
   "cell_type": "code",
   "execution_count": 37,
   "metadata": {},
   "outputs": [],
   "source": [
    "test_probs = tuned_DT.predict_proba(combined_features_eng.loc[test_index, pre_clean_features+post_clean_features])\n",
    "test_preds = probs[:,1]"
   ]
  },
  {
   "cell_type": "code",
   "execution_count": 50,
   "metadata": {},
   "outputs": [],
   "source": [
    "test_fpr, test_tpr, test_threshold = roc_curve(label_encoder.transform(combined_features_eng.loc[test_index, 'label']), preds)\n",
    "test_roc_auc = auc(test_fpr, test_tpr)"
   ]
  },
  {
   "cell_type": "code",
   "execution_count": 53,
   "metadata": {},
   "outputs": [
    {
     "data": {
      "image/png": "[encoded data removed]",
      "text/plain": [
       "<Figure size 432x288 with 1 Axes>"
      ]
     },
     "metadata": {
      "needs_background": "light"
     },
     "output_type": "display_data"
    }
   ],
   "source": [
    "plot_auc(train_fpr, train_tpr, test_fpr, test_tpr,\n",
    "         train_roc_auc, test_roc_auc)"
   ]
  },
  {
   "cell_type": "code",
   "execution_count": 68,
   "metadata": {},
   "outputs": [
    {
     "name": "stdout",
     "output_type": "stream",
     "text": [
      "Feature Importance\n",
      "--------------------------------------------------\n"
     ]
    },
    {
     "data": {
      "text/plain": [
       "stop_word_count        0.319240\n",
       "upper_case_words       0.158767\n",
       "numeric_count          0.136805\n",
       "unique_vs_words        0.131752\n",
       "Upper_case_vs_words    0.129386\n",
       "adverb                 0.031255\n",
       "conjunction            0.029337\n",
       "other                  0.027225\n",
       "verb                   0.016538\n",
       "pronoun                0.016028\n",
       "adposition             0.003667\n",
       "dtype: float64"
      ]
     },
     "execution_count": 68,
     "metadata": {},
     "output_type": "execute_result"
    }
   ],
   "source": [
    "print('Feature Importance')\n",
    "print(\"-\"*50)\n",
    "\n",
    "pd.Series(gs.best_estimator_.feature_importances_, index=pre_clean_features+post_clean_features).sort_values(ascending=False)"
   ]
  },
  {
   "cell_type": "markdown",
   "metadata": {},
   "source": [
    "### Logistic Regression"
   ]
  },
  {
   "cell_type": "code",
   "execution_count": 69,
   "metadata": {},
   "outputs": [],
   "source": [
    "C = [1e+05, 1e+04, 1e+03, 1e+02, 1e+01, 1, 1e-01, 1e-02, 1e-03]"
   ]
  },
  {
   "cell_type": "code",
   "execution_count": 79,
   "metadata": {},
   "outputs": [],
   "source": [
    "param_grid = {'C': C, 'penalty': ['l1', 'l2']}\n",
    "performance_metric = {'auc': 'roc_auc'}\n",
    "refit_metric = 'auc'"
   ]
  },
  {
   "cell_type": "code",
   "execution_count": 99,
   "metadata": {},
   "outputs": [],
   "source": [
    "def tune_model(param_grid, performance_metric, refit_metric, base_estimator, feature_columns):\n",
    "    \n",
    "    # DecisionTreeClassifier(class_weight='balanced', random_state=1)\n",
    "    # refit='auc'\n",
    "    # pre_clean_features+post_clean_features\n",
    "    gs = GridSearchCV(estimator=base_estimator,\n",
    "                  param_grid=param_grid, scoring=performance_metric,\n",
    "                  refit='auc', return_train_score=True)\\\n",
    "        .fit(combined_features_eng.loc[train_index, feature_columns], \n",
    "               label_encoder.fit_transform(combined_features_eng.loc[train_index, 'label'])\n",
    "              );\n",
    "    \n",
    "    \n",
    "    train_probs = gs.best_estimator_.predict_proba(combined_features_eng.loc[train_index, feature_columns])\n",
    "    train_preds = train_probs[:,1]\n",
    "\n",
    "    train_fpr, train_tpr, train_threshold = roc_curve(label_encoder.transform(combined_features_eng.loc[train_index, 'label']), train_preds)\n",
    "    train_roc_auc = auc(train_fpr, train_tpr)\n",
    "    \n",
    "    \n",
    "    tuned_DT = CalibratedClassifierCV(gs.best_estimator_, cv=\"prefit\")\\\n",
    "            .fit(combined_features_eng.loc[train_index, feature_columns], \n",
    "                  label_encoder.transform(combined_features_eng.loc[train_index, 'label'])\n",
    "                )\n",
    "    \n",
    "    test_probs = tuned_DT.predict_proba(combined_features_eng.loc[test_index, feature_columns])\n",
    "    test_preds = probs[:,1]\n",
    "    \n",
    "    test_fpr, test_tpr, test_threshold = roc_curve(label_encoder.transform(combined_features_eng.loc[test_index, 'label']), preds)\n",
    "    test_roc_auc = auc(test_fpr, test_tpr)\n",
    "    \n",
    "    return train_fpr, train_tpr, train_roc_auc, \\\n",
    "           test_fpr, test_tpr, test_roc_auc,\\\n",
    "           gs.best_estimator_"
   ]
  },
  {
   "cell_type": "code",
   "execution_count": 75,
   "metadata": {},
   "outputs": [],
   "source": [
    "from sklearn import linear_model"
   ]
  },
  {
   "cell_type": "code",
   "execution_count": 76,
   "metadata": {},
   "outputs": [],
   "source": [
    "base_estimator = linear_model.LogisticRegression(class_weight='balanced')"
   ]
  },
  {
   "cell_type": "code",
   "execution_count": 83,
   "metadata": {},
   "outputs": [],
   "source": [
    "train_fpr, train_tpr, train_roc_auc,\\\n",
    "test_fpr, test_tpr, test_roc_auc,\n",
    "best_model = tune_model(param_grid, performance_metric, refit_metric,\n",
    "                        base_estimator, pre_clean_features+post_clean_features)"
   ]
  },
  {
   "cell_type": "code",
   "execution_count": 84,
   "metadata": {},
   "outputs": [
    {
     "data": {
      "image/png": "[encoded data removed]",
      "text/plain": [
       "<Figure size 432x288 with 1 Axes>"
      ]
     },
     "metadata": {
      "needs_background": "light"
     },
     "output_type": "display_data"
    }
   ],
   "source": [
    "plot_auc(train_fpr, train_tpr, test_fpr, test_tpr,\n",
    "         train_roc_auc, test_roc_auc)"
   ]
  },
  {
   "cell_type": "code",
   "execution_count": 91,
   "metadata": {},
   "outputs": [
    {
     "data": {
      "text/plain": [
       "LogisticRegression(C=10000.0, class_weight='balanced')"
      ]
     },
     "execution_count": 91,
     "metadata": {},
     "output_type": "execute_result"
    }
   ],
   "source": [
    "best_model[-1]"
   ]
  },
  {
   "cell_type": "markdown",
   "metadata": {},
   "source": [
    "### RFE"
   ]
  },
  {
   "cell_type": "code",
   "execution_count": 103,
   "metadata": {},
   "outputs": [],
   "source": [
    "from sklearn.feature_selection import RFECV"
   ]
  },
  {
   "cell_type": "code",
   "execution_count": 115,
   "metadata": {},
   "outputs": [],
   "source": [
    "base_estimator = DecisionTreeClassifier(class_weight='balanced', random_state=1)\n",
    "\n",
    "selector = RFECV(base_estimator, step=1, cv=5, scoring='roc_auc')\n",
    "\n",
    "selector = selector.fit(combined_features_eng.loc[train_index, scale_cols_list],\n",
    "                        combined_features_eng.loc[train_index, 'label'])"
   ]
  },
  {
   "cell_type": "code",
   "execution_count": 119,
   "metadata": {},
   "outputs": [
    {
     "data": {
      "text/plain": [
       "Index(['stop_word_count', 'unique_vs_words', 'Upper_case_vs_words'], dtype='object')"
      ]
     },
     "execution_count": 119,
     "metadata": {},
     "output_type": "execute_result"
    }
   ],
   "source": [
    "combined_features_eng.loc[:, scale_cols_list].loc[:,selector.get_support()].columns"
   ]
  },
  {
   "cell_type": "markdown",
   "metadata": {},
   "source": [
    "### Model with important features"
   ]
  },
  {
   "cell_type": "code",
   "execution_count": 121,
   "metadata": {},
   "outputs": [],
   "source": [
    "important_features = ['stop_word_count', 'unique_vs_words', 'Upper_case_vs_words']"
   ]
  },
  {
   "cell_type": "code",
   "execution_count": 122,
   "metadata": {},
   "outputs": [],
   "source": [
    "min_samples = [2,3,5,7,9, 15, 21]\n",
    "\n",
    "param_grid = {'max_depth': np.arange(2,11), 'min_samples_split': min_samples}\n",
    "performance_metric = {'auc': 'roc_auc'}\n",
    "\n",
    "base_estimator = DecisionTreeClassifier(class_weight='balanced', random_state=1)"
   ]
  },
  {
   "cell_type": "code",
   "execution_count": 123,
   "metadata": {},
   "outputs": [],
   "source": [
    "train_fpr, train_tpr, train_roc_auc,\\\n",
    "test_fpr, test_tpr, test_roc_auc,\n",
    "best_model = tune_model(param_grid, performance_metric, refit_metric,\n",
    "                        base_estimator, important_features\n",
    "                       )"
   ]
  },
  {
   "cell_type": "code",
   "execution_count": 124,
   "metadata": {},
   "outputs": [
    {
     "data": {
      "text/plain": [
       "DecisionTreeClassifier(class_weight='balanced', max_depth=6,\n",
       "                       min_samples_split=21, random_state=1)"
      ]
     },
     "execution_count": 124,
     "metadata": {},
     "output_type": "execute_result"
    }
   ],
   "source": [
    "best_model[-1]"
   ]
  },
  {
   "cell_type": "code",
   "execution_count": 125,
   "metadata": {},
   "outputs": [
    {
     "data": {
      "image/png": "[encoded data removed]",
      "text/plain": [
       "<Figure size 432x288 with 1 Axes>"
      ]
     },
     "metadata": {
      "needs_background": "light"
     },
     "output_type": "display_data"
    }
   ],
   "source": [
    "plot_auc(train_fpr, train_tpr, test_fpr, test_tpr,\n",
    "         train_roc_auc, test_roc_auc)"
   ]
  },
  {
   "cell_type": "markdown",
   "metadata": {},
   "source": [
    "### Engineered feature performance\n",
    "\n",
    "Model |features used | train AUC | test AUC\n",
    "------| ----------|--------- |-----------\n",
    "Decision Tree | All Features | 0.60 | 0.51\n",
    "Logistic Regression | All Features | 0.58 | 0.51\n",
    "Decision Tree - important Features | stop_word_count, unique_vs_words, Upper_case_vs_words | 0.58 | 0.51\n",
    "\n",
    "Thus, we see that the models with Engineered features only performs very slightly better than Random Model (0.5). \\\n",
    "This indicates that the **engineered features** are **not very good predictors**."
   ]
  },
  {
   "cell_type": "code",
   "execution_count": null,
   "metadata": {},
   "outputs": [],
   "source": []
  }
 ],
 "metadata": {
  "kernelspec": {
   "display_name": "Python 3",
   "language": "python",
   "name": "python3"
  },
  "language_info": {
   "codemirror_mode": {
    "name": "ipython",
    "version": 3
   },
   "file_extension": ".py",
   "mimetype": "text/x-python",
   "name": "python",
   "nbconvert_exporter": "python",
   "pygments_lexer": "ipython3",
   "version": "3.6.12"
  },
  "toc-showcode": false
 },
 "nbformat": 4,
 "nbformat_minor": 4
}
