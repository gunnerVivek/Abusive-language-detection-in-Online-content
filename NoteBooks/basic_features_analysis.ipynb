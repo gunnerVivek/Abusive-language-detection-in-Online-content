{
 "cells": [
  {
   "cell_type": "markdown",
   "metadata": {},
   "source": [
    "# <center>Basic Feature Extraction</center>\n",
    "\n",
    "Purpose of this notebook is to Engineer basic set of features before performing cleaning of the whole corpus. We will want to extract some basic features like count of Upper case words before performing data processing steps such as lower casing, etc."
   ]
  },
  {
   "cell_type": "code",
   "execution_count": null,
   "metadata": {},
   "outputs": [],
   "source": [
    "# import spacy\n",
    "from spacy.lang.en.stop_words import STOP_WORDS"
   ]
  },
  {
   "cell_type": "code",
   "execution_count": 1,
   "metadata": {},
   "outputs": [],
   "source": [
    "import os.path\n",
    "import pandas as pd\n",
    "import numpy as np\n",
    "import seaborn as sns\n",
    "import matplotlib.pyplot as plt"
   ]
  },
  {
   "cell_type": "code",
   "execution_count": 2,
   "metadata": {},
   "outputs": [],
   "source": [
    "import warnings\n",
    "warnings.filterwarnings(\"ignore\")"
   ]
  },
  {
   "cell_type": "code",
   "execution_count": 2,
   "metadata": {},
   "outputs": [],
   "source": [
    "from definitions import CLEANED_DATA_DIR, ROOT_DIR\n"
   ]
  },
  {
   "cell_type": "markdown",
   "metadata": {},
   "source": [
    "## Sampling of data\n",
    "Use only a sample of data to decide on steps to perform. "
   ]
  },
  {
   "cell_type": "code",
   "execution_count": 11,
   "metadata": {},
   "outputs": [
    {
     "data": {
      "text/plain": [
       "'.\\\\cleaned_data'"
      ]
     },
     "execution_count": 11,
     "metadata": {},
     "output_type": "execute_result"
    }
   ],
   "source": [
    "# os.path.join(CLEANED_DATA_DIR, 'combined.csv')\n",
    "from definitions import ROOT_DIR\n",
    "# ROOT_DIR\n",
    "# cleaned_data/combined.csv\n",
    "CLEANED_DATA_DIR"
   ]
  },
  {
   "cell_type": "code",
   "execution_count": 13,
   "metadata": {},
   "outputs": [
    {
     "name": "stdout",
     "output_type": "stream",
     "text": [
      "Shape of the data: (2370450, 2)\n",
      "--------------------------------------------------\n",
      "Sampling 100k observations\n"
     ]
    }
   ],
   "source": [
    "file_name = str(os.path.join(CLEANED_DATA_DIR, 'combined.csv'))\n",
    "\n",
    "data = pd.read_csv(\"../cleaned_data/combined.csv\", encoding=\"utf-8\")\n",
    "\n",
    "print('Shape of the data:', data.shape)\n",
    "print('-'*50)\n",
    "print('Sampling 100k observations')\n",
    "data = data.sample(n=100000)"
   ]
  },
  {
   "cell_type": "markdown",
   "metadata": {},
   "source": [
    "## Basic Feature Extraction\n",
    "\n",
    "https://towardsdatascience.com/how-i-improved-my-text-classification-model-with-feature-engineering-98fbe6c13ef3"
   ]
  },
  {
   "cell_type": "code",
   "execution_count": 15,
   "metadata": {},
   "outputs": [
    {
     "data": {
      "text/html": [
       "<div>\n",
       "<style scoped>\n",
       "    .dataframe tbody tr th:only-of-type {\n",
       "        vertical-align: middle;\n",
       "    }\n",
       "\n",
       "    .dataframe tbody tr th {\n",
       "        vertical-align: top;\n",
       "    }\n",
       "\n",
       "    .dataframe thead th {\n",
       "        text-align: right;\n",
       "    }\n",
       "</style>\n",
       "<table border=\"1\" class=\"dataframe\">\n",
       "  <thead>\n",
       "    <tr style=\"text-align: right;\">\n",
       "      <th></th>\n",
       "      <th>message</th>\n",
       "      <th>label</th>\n",
       "    </tr>\n",
       "  </thead>\n",
       "  <tbody>\n",
       "    <tr>\n",
       "      <th>712060</th>\n",
       "      <td>Please name and clarify those subsidies !\\nAs ...</td>\n",
       "      <td>no_abuse</td>\n",
       "    </tr>\n",
       "    <tr>\n",
       "      <th>832870</th>\n",
       "      <td>Try telling that to the business that rely on ...</td>\n",
       "      <td>no_abuse</td>\n",
       "    </tr>\n",
       "    <tr>\n",
       "      <th>1097119</th>\n",
       "      <td>I'm not going to say anything for or against t...</td>\n",
       "      <td>abuse</td>\n",
       "    </tr>\n",
       "    <tr>\n",
       "      <th>1955973</th>\n",
       "      <td>The OLD saying is, \"It pays to Read the FINE P...</td>\n",
       "      <td>no_abuse</td>\n",
       "    </tr>\n",
       "    <tr>\n",
       "      <th>339740</th>\n",
       "      <td>Okay, when I lived in Barrow (1982-91) I heard...</td>\n",
       "      <td>no_abuse</td>\n",
       "    </tr>\n",
       "  </tbody>\n",
       "</table>\n",
       "</div>"
      ],
      "text/plain": [
       "                                                   message     label\n",
       "712060   Please name and clarify those subsidies !\\nAs ...  no_abuse\n",
       "832870   Try telling that to the business that rely on ...  no_abuse\n",
       "1097119  I'm not going to say anything for or against t...     abuse\n",
       "1955973  The OLD saying is, \"It pays to Read the FINE P...  no_abuse\n",
       "339740   Okay, when I lived in Barrow (1982-91) I heard...  no_abuse"
      ]
     },
     "execution_count": 15,
     "metadata": {},
     "output_type": "execute_result"
    }
   ],
   "source": [
    "data.head()"
   ]
  },
  {
   "cell_type": "code",
   "execution_count": 31,
   "metadata": {},
   "outputs": [
    {
     "data": {
      "text/plain": [
       "no_abuse    90.684\n",
       "abuse        9.316\n",
       "Name: label, dtype: float64"
      ]
     },
     "execution_count": 31,
     "metadata": {},
     "output_type": "execute_result"
    }
   ],
   "source": [
    "data.label.value_counts()/data.shape[0] * 100"
   ]
  },
  {
   "cell_type": "code",
   "execution_count": 16,
   "metadata": {},
   "outputs": [
    {
     "data": {
      "text/plain": [
       "'I\\'m not going to say anything for or against the president but I would just like to remind you that if Americans had not elected Trump then we would have hillary for 4 years or more. She is easily the most corrupt woman in the U S. It\\'s more than apparent that people do not use their computers/phones to do simple research. Google hillary or bill and you will find a completely different world from the one you watch on CNN, MSNBC, CBS etc. I used to vote blindly BEFORE the internet. Now, I research who the people are that want me to vote them into office. You\\'ve heard, \"where there\\'s smoke, there\\'s fire?\\nhttp://www.whatreallyhappened.com/WRHARTICLES/THE%20CLINTON%20BODY%20COUNT.pdf\\nhttps://www.youtube.com/watch?v=NwkMfpge3gE'"
      ]
     },
     "execution_count": 16,
     "metadata": {},
     "output_type": "execute_result"
    }
   ],
   "source": []
  },
  {
   "cell_type": "markdown",
   "metadata": {},
   "source": [
    "### Word count"
   ]
  },
  {
   "cell_type": "code",
   "execution_count": 23,
   "metadata": {},
   "outputs": [],
   "source": [
    "data['word_count'] = data.message.apply(lambda x: len(x.split()))"
   ]
  },
  {
   "cell_type": "markdown",
   "metadata": {},
   "source": [
    "### Character Count"
   ]
  },
  {
   "cell_type": "code",
   "execution_count": 24,
   "metadata": {},
   "outputs": [],
   "source": [
    "data['char_count'] = data.message.apply(lambda x: len(x))"
   ]
  },
  {
   "cell_type": "markdown",
   "metadata": {},
   "source": [
    "### Average Word Length"
   ]
  },
  {
   "cell_type": "code",
   "execution_count": 19,
   "metadata": {},
   "outputs": [],
   "source": [
    "def avg_word_len(document):\n",
    "    '''\n",
    "        - length of each word and sum them up\n",
    "        - divide by number of words\n",
    "    '''\n",
    "    \n",
    "    words = document.split()\n",
    "    \n",
    "    word_len = 0\n",
    "    for word in words:\n",
    "        word_len += len(word)\n",
    "        \n",
    "    return word_len / len(words)"
   ]
  },
  {
   "cell_type": "code",
   "execution_count": 25,
   "metadata": {},
   "outputs": [],
   "source": [
    "data['avg_word_len'] = data.message.apply(avg_word_len)"
   ]
  },
  {
   "cell_type": "markdown",
   "metadata": {},
   "source": [
    "### Upper Case Word Count"
   ]
  },
  {
   "cell_type": "code",
   "execution_count": 26,
   "metadata": {},
   "outputs": [],
   "source": [
    "data['upper_case_words'] = data.message.apply(lambda x: len([word for word in x.split() if x.isupper()]))"
   ]
  },
  {
   "cell_type": "markdown",
   "metadata": {},
   "source": [
    "### Numeric digit is present : Boolean"
   ]
  },
  {
   "cell_type": "code",
   "execution_count": 28,
   "metadata": {},
   "outputs": [],
   "source": [
    "def is_number(x):\n",
    "    '''\n",
    "        Takes a word and checks if Number (Integer or Float)\n",
    "    '''\n",
    "    try:\n",
    "        # only integers and float converts safely\n",
    "        num = float(x)\n",
    "        return True\n",
    "    except ValueError as e: # not convertable to float\n",
    "        return False"
   ]
  },
  {
   "cell_type": "code",
   "execution_count": 29,
   "metadata": {},
   "outputs": [],
   "source": [
    "data['numeric_count'] = data.message.apply(lambda document: len([word for word in document.split() if is_number(word)]))"
   ]
  },
  {
   "cell_type": "markdown",
   "metadata": {},
   "source": [
    "### Word Density - average length of the words"
   ]
  },
  {
   "cell_type": "code",
   "execution_count": 33,
   "metadata": {},
   "outputs": [],
   "source": [
    "data['word_density'] = data['char_count'] / (data['word_count']+1)"
   ]
  },
  {
   "cell_type": "markdown",
   "metadata": {},
   "source": [
    "### Punctuation count"
   ]
  },
  {
   "cell_type": "code",
   "execution_count": 34,
   "metadata": {},
   "outputs": [],
   "source": [
    "punctuations = ['.',',', '\"', \"'\", '-', '?', ':', '!', ';', '<<', '>>', '[', ']', '(', ')' , '{', '}']"
   ]
  },
  {
   "cell_type": "code",
   "execution_count": 35,
   "metadata": {},
   "outputs": [],
   "source": [
    "data['punct_count'] = data.message.apply(lambda x: len([word for word in x.split() if word in punctuations]))"
   ]
  },
  {
   "cell_type": "markdown",
   "metadata": {},
   "source": [
    "### Stop word count"
   ]
  },
  {
   "cell_type": "code",
   "execution_count": null,
   "metadata": {},
   "outputs": [],
   "source": [
    "data[''] = "
   ]
  },
  {
   "cell_type": "markdown",
   "metadata": {},
   "source": [
    "### Number of unique words"
   ]
  },
  {
   "cell_type": "code",
   "execution_count": null,
   "metadata": {},
   "outputs": [],
   "source": [
    "df['num_unique_words'] = df['comment_text'].apply(lambda x: len(set(w for w in x.split())))"
   ]
  },
  {
   "cell_type": "markdown",
   "metadata": {},
   "source": [
    "### unique_words : word count Ratio"
   ]
  },
  {
   "cell_type": "code",
   "execution_count": null,
   "metadata": {},
   "outputs": [],
   "source": [
    "df['unique_vs_words'] = df['num_unique_words'] / df['word_count']"
   ]
  },
  {
   "cell_type": "markdown",
   "metadata": {},
   "source": [
    "# <center>Analysis</center>"
   ]
  },
  {
   "cell_type": "code",
   "execution_count": 3,
   "metadata": {},
   "outputs": [],
   "source": [
    "# file_name = str(os.path.join(CLEANED_DATA_DIR, 'combined.csv'))\n",
    "\n",
    "data = pd.read_csv(\"../cleaned_data/train_pre_clean_features.csv\", encoding=\"utf-8\")\n",
    "data = data.sample(n=100000)\n",
    "data = data.drop(columns=['message'])"
   ]
  },
  {
   "cell_type": "code",
   "execution_count": 4,
   "metadata": {},
   "outputs": [
    {
     "data": {
      "text/plain": [
       "no_abuse    90702\n",
       "abuse        9298\n",
       "Name: label, dtype: int64"
      ]
     },
     "execution_count": 4,
     "metadata": {},
     "output_type": "execute_result"
    }
   ],
   "source": [
    "data.label.value_counts(dropna=False)"
   ]
  },
  {
   "cell_type": "code",
   "execution_count": 27,
   "metadata": {},
   "outputs": [
    {
     "data": {
      "image/png": "[encoded data removed]",
      "text/plain": [
       "<Figure size 576x288 with 1 Axes>"
      ]
     },
     "metadata": {
      "needs_background": "light"
     },
     "output_type": "display_data"
    }
   ],
   "source": [
    "plt.figure(figsize=(8,4))\n",
    "(data.label.value_counts()/data.shape[0]*100).plot(kind='barh')\n",
    "plt.title(r'Imbalanced data. $\\approx 90\\%$ of data is Not abuse while the rest is abuse.')\n",
    "plt.show()"
   ]
  },
  {
   "cell_type": "code",
   "execution_count": 5,
   "metadata": {},
   "outputs": [
    {
     "data": {
      "text/plain": [
       "Index(['label', 'word_count', 'char_count', 'avg_word_len', 'upper_case_words',\n",
       "       'numeric_count', 'word_density', 'punct_count', 'stop_word_count',\n",
       "       'num_unique_words', 'unique_vs_words', 'be_verb_count'],\n",
       "      dtype='object')"
      ]
     },
     "execution_count": 5,
     "metadata": {},
     "output_type": "execute_result"
    }
   ],
   "source": [
    "data.columns"
   ]
  },
  {
   "cell_type": "code",
   "execution_count": 27,
   "metadata": {},
   "outputs": [
    {
     "name": "stdout",
     "output_type": "stream",
     "text": [
      "<class 'pandas.core.frame.DataFrame'>\n",
      "Int64Index: 100000 entries, 1611671 to 972422\n",
      "Data columns (total 12 columns):\n",
      " #   Column            Non-Null Count   Dtype  \n",
      "---  ------            --------------   -----  \n",
      " 0   label             100000 non-null  object \n",
      " 1   word_count        100000 non-null  int64  \n",
      " 2   char_count        100000 non-null  int64  \n",
      " 3   avg_word_len      100000 non-null  float64\n",
      " 4   upper_case_words  100000 non-null  int64  \n",
      " 5   numeric_count     100000 non-null  int64  \n",
      " 6   word_density      100000 non-null  float64\n",
      " 7   punct_count       100000 non-null  int64  \n",
      " 8   stop_word_count   100000 non-null  int64  \n",
      " 9   num_unique_words  100000 non-null  int64  \n",
      " 10  unique_vs_words   100000 non-null  float64\n",
      " 11  be_verb_count     100000 non-null  int64  \n",
      "dtypes: float64(3), int64(8), object(1)\n",
      "memory usage: 12.4+ MB\n"
     ]
    }
   ],
   "source": [
    "data.info()"
   ]
  },
  {
   "cell_type": "code",
   "execution_count": 28,
   "metadata": {},
   "outputs": [
    {
     "data": {
      "text/html": [
       "<div>\n",
       "<style scoped>\n",
       "    .dataframe tbody tr th:only-of-type {\n",
       "        vertical-align: middle;\n",
       "    }\n",
       "\n",
       "    .dataframe tbody tr th {\n",
       "        vertical-align: top;\n",
       "    }\n",
       "\n",
       "    .dataframe thead th {\n",
       "        text-align: right;\n",
       "    }\n",
       "</style>\n",
       "<table border=\"1\" class=\"dataframe\">\n",
       "  <thead>\n",
       "    <tr style=\"text-align: right;\">\n",
       "      <th></th>\n",
       "      <th>word_count</th>\n",
       "      <th>char_count</th>\n",
       "      <th>avg_word_len</th>\n",
       "      <th>upper_case_words</th>\n",
       "      <th>numeric_count</th>\n",
       "      <th>word_density</th>\n",
       "      <th>punct_count</th>\n",
       "      <th>stop_word_count</th>\n",
       "      <th>num_unique_words</th>\n",
       "      <th>unique_vs_words</th>\n",
       "      <th>be_verb_count</th>\n",
       "    </tr>\n",
       "  </thead>\n",
       "  <tbody>\n",
       "    <tr>\n",
       "      <th>count</th>\n",
       "      <td>100000.00000</td>\n",
       "      <td>100000.000000</td>\n",
       "      <td>100000.000000</td>\n",
       "      <td>100000.000000</td>\n",
       "      <td>100000.000000</td>\n",
       "      <td>100000.000000</td>\n",
       "      <td>100000.000000</td>\n",
       "      <td>100000.000000</td>\n",
       "      <td>100000.000000</td>\n",
       "      <td>100000.000000</td>\n",
       "      <td>100000.00000</td>\n",
       "    </tr>\n",
       "    <tr>\n",
       "      <th>mean</th>\n",
       "      <td>53.12159</td>\n",
       "      <td>308.370900</td>\n",
       "      <td>4.997453</td>\n",
       "      <td>1.487670</td>\n",
       "      <td>0.229980</td>\n",
       "      <td>5.609856</td>\n",
       "      <td>0.264590</td>\n",
       "      <td>23.740380</td>\n",
       "      <td>41.774860</td>\n",
       "      <td>0.877566</td>\n",
       "      <td>4.40124</td>\n",
       "    </tr>\n",
       "    <tr>\n",
       "      <th>std</th>\n",
       "      <td>59.81842</td>\n",
       "      <td>348.676088</td>\n",
       "      <td>5.112565</td>\n",
       "      <td>12.740456</td>\n",
       "      <td>0.834803</td>\n",
       "      <td>3.374945</td>\n",
       "      <td>0.959985</td>\n",
       "      <td>26.863037</td>\n",
       "      <td>37.039613</td>\n",
       "      <td>0.107200</td>\n",
       "      <td>5.46353</td>\n",
       "    </tr>\n",
       "    <tr>\n",
       "      <th>min</th>\n",
       "      <td>1.00000</td>\n",
       "      <td>1.000000</td>\n",
       "      <td>1.000000</td>\n",
       "      <td>0.000000</td>\n",
       "      <td>0.000000</td>\n",
       "      <td>0.500000</td>\n",
       "      <td>0.000000</td>\n",
       "      <td>0.000000</td>\n",
       "      <td>1.000000</td>\n",
       "      <td>0.000806</td>\n",
       "      <td>0.00000</td>\n",
       "    </tr>\n",
       "    <tr>\n",
       "      <th>25%</th>\n",
       "      <td>16.00000</td>\n",
       "      <td>92.000000</td>\n",
       "      <td>4.366945</td>\n",
       "      <td>0.000000</td>\n",
       "      <td>0.000000</td>\n",
       "      <td>5.120000</td>\n",
       "      <td>0.000000</td>\n",
       "      <td>6.000000</td>\n",
       "      <td>15.000000</td>\n",
       "      <td>0.800000</td>\n",
       "      <td>1.00000</td>\n",
       "    </tr>\n",
       "    <tr>\n",
       "      <th>50%</th>\n",
       "      <td>34.00000</td>\n",
       "      <td>198.000000</td>\n",
       "      <td>4.710526</td>\n",
       "      <td>1.000000</td>\n",
       "      <td>0.000000</td>\n",
       "      <td>5.515625</td>\n",
       "      <td>0.000000</td>\n",
       "      <td>15.000000</td>\n",
       "      <td>31.000000</td>\n",
       "      <td>0.890055</td>\n",
       "      <td>3.00000</td>\n",
       "    </tr>\n",
       "    <tr>\n",
       "      <th>75%</th>\n",
       "      <td>71.00000</td>\n",
       "      <td>412.000000</td>\n",
       "      <td>5.098361</td>\n",
       "      <td>2.000000</td>\n",
       "      <td>0.000000</td>\n",
       "      <td>5.888889</td>\n",
       "      <td>0.000000</td>\n",
       "      <td>32.000000</td>\n",
       "      <td>58.000000</td>\n",
       "      <td>1.000000</td>\n",
       "      <td>6.00000</td>\n",
       "    </tr>\n",
       "    <tr>\n",
       "      <th>max</th>\n",
       "      <td>2494.00000</td>\n",
       "      <td>10000.000000</td>\n",
       "      <td>1043.250000</td>\n",
       "      <td>2494.000000</td>\n",
       "      <td>56.000000</td>\n",
       "      <td>835.200000</td>\n",
       "      <td>91.000000</td>\n",
       "      <td>976.000000</td>\n",
       "      <td>747.000000</td>\n",
       "      <td>1.000000</td>\n",
       "      <td>301.00000</td>\n",
       "    </tr>\n",
       "  </tbody>\n",
       "</table>\n",
       "</div>"
      ],
      "text/plain": [
       "         word_count     char_count   avg_word_len  upper_case_words  \\\n",
       "count  100000.00000  100000.000000  100000.000000     100000.000000   \n",
       "mean       53.12159     308.370900       4.997453          1.487670   \n",
       "std        59.81842     348.676088       5.112565         12.740456   \n",
       "min         1.00000       1.000000       1.000000          0.000000   \n",
       "25%        16.00000      92.000000       4.366945          0.000000   \n",
       "50%        34.00000     198.000000       4.710526          1.000000   \n",
       "75%        71.00000     412.000000       5.098361          2.000000   \n",
       "max      2494.00000   10000.000000    1043.250000       2494.000000   \n",
       "\n",
       "       numeric_count   word_density    punct_count  stop_word_count  \\\n",
       "count  100000.000000  100000.000000  100000.000000    100000.000000   \n",
       "mean        0.229980       5.609856       0.264590        23.740380   \n",
       "std         0.834803       3.374945       0.959985        26.863037   \n",
       "min         0.000000       0.500000       0.000000         0.000000   \n",
       "25%         0.000000       5.120000       0.000000         6.000000   \n",
       "50%         0.000000       5.515625       0.000000        15.000000   \n",
       "75%         0.000000       5.888889       0.000000        32.000000   \n",
       "max        56.000000     835.200000      91.000000       976.000000   \n",
       "\n",
       "       num_unique_words  unique_vs_words  be_verb_count  \n",
       "count     100000.000000    100000.000000   100000.00000  \n",
       "mean          41.774860         0.877566        4.40124  \n",
       "std           37.039613         0.107200        5.46353  \n",
       "min            1.000000         0.000806        0.00000  \n",
       "25%           15.000000         0.800000        1.00000  \n",
       "50%           31.000000         0.890055        3.00000  \n",
       "75%           58.000000         1.000000        6.00000  \n",
       "max          747.000000         1.000000      301.00000  "
      ]
     },
     "execution_count": 28,
     "metadata": {},
     "output_type": "execute_result"
    }
   ],
   "source": [
    "data.describe()"
   ]
  },
  {
   "cell_type": "code",
   "execution_count": 77,
   "metadata": {},
   "outputs": [],
   "source": [
    "corr = data.corr()\n",
    "# Generate a mask for the upper triangle\n",
    "mask = np.triu(np.ones_like(corr, dtype=bool))"
   ]
  },
  {
   "cell_type": "code",
   "execution_count": 84,
   "metadata": {},
   "outputs": [
    {
     "data": {
      "image/png": "[encoded data removed]",
      "text/plain": [
       "<Figure size 864x432 with 2 Axes>"
      ]
     },
     "metadata": {
      "needs_background": "light"
     },
     "output_type": "display_data"
    }
   ],
   "source": [
    "plt.figure(figsize=(12,6))\n",
    "sns.heatmap(corr, annot=True, mask=mask)\n",
    "plt.title('Feature Multi - collinearity Map')\n",
    "plt.show()"
   ]
  },
  {
   "cell_type": "markdown",
   "metadata": {},
   "source": [
    "## Features to retain\n",
    "- Threshold  $= 0.85$\n",
    "- notice correaltion\n",
    "- perform t-test with target(label)\n",
    "- more number of features a variable is correlated with gets higher priority to be retained, because it can remove more variables."
   ]
  },
  {
   "cell_type": "code",
   "execution_count": 35,
   "metadata": {},
   "outputs": [
    {
     "data": {
      "text/plain": [
       "<AxesSubplot:xlabel='label', ylabel='word_density'>"
      ]
     },
     "execution_count": 35,
     "metadata": {},
     "output_type": "execute_result"
    },
    {
     "data": {
      "image/png": "[encoded data removed]",
      "text/plain": [
       "<Figure size 1080x360 with 3 Axes>"
      ]
     },
     "metadata": {
      "needs_background": "light"
     },
     "output_type": "display_data"
    }
   ],
   "source": [
    "fig, ax = plt.subplots(1,3, figsize=(15,5))\n",
    "\n",
    "plt.subplot(ax[0])\n",
    "sns.distplot(data.word_density[data.label == 'no_abuse'], color='b', hist=False, label='No Abuse')\n",
    "# sns.displot(data=df, x='word_count', hue='label')\n",
    "sns.distplot(data.word_density[data.label == 'abuse'], color='r', hist=False, label='Abuse')\n",
    "\n",
    "plt.subplot(ax[1])\n",
    "sns.distplot(np.log(data.word_density[data.label == 'no_abuse']), color='b', hist=False, label='No Abuse')\n",
    "# sns.displot(data=df, x='word_count', hue='label')\n",
    "sns.distplot(np.log(data.word_density[data.label == 'abuse']), color='r', hist=False, label='Abuse')\n",
    "plt.xlabel(\"Log of word_density\")\n",
    "\n",
    "plt.subplot(ax[2])\n",
    "df = data[['word_density', 'label']]\n",
    "df.word_density = log(df.word_density)\n",
    "sns.boxplot(x=\"label\", y=\"word_density\", data = data)\n",
    "\n",
    "plt.suptitle(\"Word Density grouped by Target ('label')\")\n",
    "\n",
    "plt.show()"
   ]
  },
  {
   "cell_type": "code",
   "execution_count": 31,
   "metadata": {},
   "outputs": [
    {
     "data": {
      "text/plain": [
       "<AxesSubplot:xlabel='avg_word_len', ylabel='Density'>"
      ]
     },
     "execution_count": 31,
     "metadata": {},
     "output_type": "execute_result"
    },
    {
     "data": {
      "image/png": "[encoded data removed]",
      "text/plain": [
       "<Figure size 432x288 with 1 Axes>"
      ]
     },
     "metadata": {
      "needs_background": "light"
     },
     "output_type": "display_data"
    }
   ],
   "source": [
    "sns.distplot(np.log(data.avg_word_len[data.label == 'no_abuse']), color='b', hist=False, label='No Abuse')\n",
    "# sns.displot(data=df, x='word_count', hue='label')\n",
    "sns.distplot(np.log(data.avg_word_len[data.label == 'abuse']), color='r', hist=False, label='Abuse')"
   ]
  },
  {
   "cell_type": "markdown",
   "metadata": {},
   "source": [
    "## Word Count"
   ]
  },
  {
   "cell_type": "code",
   "execution_count": 82,
   "metadata": {},
   "outputs": [],
   "source": [
    "df = data[['label', 'word_count']]\n",
    "df.word_count = np.log(df.word_count)"
   ]
  },
  {
   "cell_type": "code",
   "execution_count": 65,
   "metadata": {},
   "outputs": [
    {
     "data": {
      "image/png": "[encoded data removed]",
      "text/plain": [
       "<Figure size 864x432 with 2 Axes>"
      ]
     },
     "metadata": {
      "needs_background": "light"
     },
     "output_type": "display_data"
    }
   ],
   "source": [
    "fig, ax = plt.subplots(1,2, figsize=(12,6))\n",
    "\n",
    "plt.subplot(ax[0])\n",
    "sns.boxplot(y=\"label\", x=\"word_count\", data = df)#, data=pd.melt(grp))\n",
    "\n",
    "plt.subplot(ax[1])\n",
    "sns.distplot(df.word_count[df.label == 'no_abuse'], color='b', hist=False, label='No Abuse')\n",
    "# sns.displot(data=df, x='word_count', hue='label')\n",
    "sns.distplot(df.word_count[df.label == 'abuse'], color='r', hist=False, label='Abuse')\n",
    "ax[1].margins(0.05, tight=False)\n",
    "\n",
    "plt.legend()\n",
    "# plt.tight_layout()\n",
    "plt.show()\n"
   ]
  },
  {
   "cell_type": "code",
   "execution_count": 83,
   "metadata": {},
   "outputs": [
    {
     "data": {
      "image/png": "[encoded data removed]",
      "text/plain": [
       "<Figure size 864x432 with 2 Axes>"
      ]
     },
     "metadata": {
      "needs_background": "light"
     },
     "output_type": "display_data"
    }
   ],
   "source": [
    "fig, ax = plt.subplots(1,2, figsize=(12,6))\n",
    "\n",
    "plt.subplot(ax[0])\n",
    "sns.boxplot(y=\"label\", x=\"word_count\", data = df)#, data=pd.melt(grp))\n",
    "\n",
    "plt.subplot(ax[1])\n",
    "sns.distplot(df.word_count[df.label == 'no_abuse'], color='b', hist=False, label='No Abuse')\n",
    "# sns.displot(data=df, x='word_count', hue='label')\n",
    "sns.distplot(df.word_count[df.label == 'abuse'], color='r', hist=False, label='Abuse')\n",
    "ax[1].margins(0.05, tight=False)\n",
    "\n",
    "plt.legend()\n",
    "# plt.tight_layout()\n",
    "plt.show()\n"
   ]
  },
  {
   "cell_type": "code",
   "execution_count": null,
   "metadata": {},
   "outputs": [],
   "source": []
  },
  {
   "cell_type": "code",
   "execution_count": 68,
   "metadata": {},
   "outputs": [
    {
     "data": {
      "text/html": [
       "<div>\n",
       "<style scoped>\n",
       "    .dataframe tbody tr th:only-of-type {\n",
       "        vertical-align: middle;\n",
       "    }\n",
       "\n",
       "    .dataframe tbody tr th {\n",
       "        vertical-align: top;\n",
       "    }\n",
       "\n",
       "    .dataframe thead th {\n",
       "        text-align: right;\n",
       "    }\n",
       "</style>\n",
       "<table border=\"1\" class=\"dataframe\">\n",
       "  <thead>\n",
       "    <tr style=\"text-align: right;\">\n",
       "      <th></th>\n",
       "      <th>word_count</th>\n",
       "    </tr>\n",
       "  </thead>\n",
       "  <tbody>\n",
       "    <tr>\n",
       "      <th>count</th>\n",
       "      <td>100000.00000</td>\n",
       "    </tr>\n",
       "    <tr>\n",
       "      <th>mean</th>\n",
       "      <td>53.12159</td>\n",
       "    </tr>\n",
       "    <tr>\n",
       "      <th>std</th>\n",
       "      <td>59.81842</td>\n",
       "    </tr>\n",
       "    <tr>\n",
       "      <th>min</th>\n",
       "      <td>1.00000</td>\n",
       "    </tr>\n",
       "    <tr>\n",
       "      <th>25%</th>\n",
       "      <td>16.00000</td>\n",
       "    </tr>\n",
       "    <tr>\n",
       "      <th>50%</th>\n",
       "      <td>34.00000</td>\n",
       "    </tr>\n",
       "    <tr>\n",
       "      <th>75%</th>\n",
       "      <td>71.00000</td>\n",
       "    </tr>\n",
       "    <tr>\n",
       "      <th>max</th>\n",
       "      <td>2494.00000</td>\n",
       "    </tr>\n",
       "  </tbody>\n",
       "</table>\n",
       "</div>"
      ],
      "text/plain": [
       "         word_count\n",
       "count  100000.00000\n",
       "mean       53.12159\n",
       "std        59.81842\n",
       "min         1.00000\n",
       "25%        16.00000\n",
       "50%        34.00000\n",
       "75%        71.00000\n",
       "max      2494.00000"
      ]
     },
     "execution_count": 68,
     "metadata": {},
     "output_type": "execute_result"
    }
   ],
   "source": [
    "df.describe()"
   ]
  },
  {
   "cell_type": "code",
   "execution_count": 49,
   "metadata": {},
   "outputs": [
    {
     "data": {
      "text/plain": [
       "<matplotlib.legend.Legend at 0x1ab835ea128>"
      ]
     },
     "execution_count": 49,
     "metadata": {},
     "output_type": "execute_result"
    },
    {
     "data": {
      "image/png": "[encoded data removed]",
      "text/plain": [
       "<Figure size 432x288 with 1 Axes>"
      ]
     },
     "metadata": {
      "needs_background": "light"
     },
     "output_type": "display_data"
    }
   ],
   "source": [
    "plt.plot(df.word_count[df.label == 'no_abuse'], np.zeros_like(df.word_count[df.label == 'no_abuse'])+0.02, 'o', label='No Abuse')\n",
    "plt.plot(df.word_count[df.label == 'abuse'], np.zeros_like(df.word_count[df.label == 'abuse'])+0.01, 'o', label='Abuse')\n",
    "plt.ylim(0, 0.03)\n",
    "plt.yticks([])\n",
    "plt.legend()"
   ]
  },
  {
   "cell_type": "code",
   "execution_count": 52,
   "metadata": {},
   "outputs": [
    {
     "data": {
      "text/html": [
       "<div>\n",
       "<style scoped>\n",
       "    .dataframe tbody tr th:only-of-type {\n",
       "        vertical-align: middle;\n",
       "    }\n",
       "\n",
       "    .dataframe tbody tr th {\n",
       "        vertical-align: top;\n",
       "    }\n",
       "\n",
       "    .dataframe thead tr th {\n",
       "        text-align: left;\n",
       "    }\n",
       "\n",
       "    .dataframe thead tr:last-of-type th {\n",
       "        text-align: right;\n",
       "    }\n",
       "</style>\n",
       "<table border=\"1\" class=\"dataframe\">\n",
       "  <thead>\n",
       "    <tr>\n",
       "      <th></th>\n",
       "      <th colspan=\"8\" halign=\"left\">word_count</th>\n",
       "    </tr>\n",
       "    <tr>\n",
       "      <th></th>\n",
       "      <th>count</th>\n",
       "      <th>mean</th>\n",
       "      <th>std</th>\n",
       "      <th>min</th>\n",
       "      <th>25%</th>\n",
       "      <th>50%</th>\n",
       "      <th>75%</th>\n",
       "      <th>max</th>\n",
       "    </tr>\n",
       "    <tr>\n",
       "      <th>label</th>\n",
       "      <th></th>\n",
       "      <th></th>\n",
       "      <th></th>\n",
       "      <th></th>\n",
       "      <th></th>\n",
       "      <th></th>\n",
       "      <th></th>\n",
       "      <th></th>\n",
       "    </tr>\n",
       "  </thead>\n",
       "  <tbody>\n",
       "    <tr>\n",
       "      <th>abuse</th>\n",
       "      <td>9308.0</td>\n",
       "      <td>44.872153</td>\n",
       "      <td>57.233906</td>\n",
       "      <td>1.0</td>\n",
       "      <td>14.0</td>\n",
       "      <td>28.0</td>\n",
       "      <td>58.0</td>\n",
       "      <td>2052.0</td>\n",
       "    </tr>\n",
       "    <tr>\n",
       "      <th>no_abuse</th>\n",
       "      <td>90692.0</td>\n",
       "      <td>54.045043</td>\n",
       "      <td>58.879088</td>\n",
       "      <td>1.0</td>\n",
       "      <td>16.0</td>\n",
       "      <td>35.0</td>\n",
       "      <td>73.0</td>\n",
       "      <td>1508.0</td>\n",
       "    </tr>\n",
       "  </tbody>\n",
       "</table>\n",
       "</div>"
      ],
      "text/plain": [
       "         word_count                                                     \n",
       "              count       mean        std  min   25%   50%   75%     max\n",
       "label                                                                   \n",
       "abuse        9308.0  44.872153  57.233906  1.0  14.0  28.0  58.0  2052.0\n",
       "no_abuse    90692.0  54.045043  58.879088  1.0  16.0  35.0  73.0  1508.0"
      ]
     },
     "execution_count": 52,
     "metadata": {},
     "output_type": "execute_result"
    }
   ],
   "source": [
    "df.groupby('label').describe()"
   ]
  },
  {
   "cell_type": "code",
   "execution_count": 59,
   "metadata": {},
   "outputs": [
    {
     "data": {
      "text/plain": [
       "(0, 200)"
      ]
     },
     "execution_count": 59,
     "metadata": {},
     "output_type": "execute_result"
    },
    {
     "data": {
      "image/png": "[encoded data removed]",
      "text/plain": [
       "<Figure size 432x288 with 1 Axes>"
      ]
     },
     "metadata": {
      "needs_background": "light"
     },
     "output_type": "display_data"
    }
   ],
   "source": [
    "sns.boxplot(y=\"label\", x=\"word_count\", data = df)\n",
    "plt.xlim(0,200)"
   ]
  },
  {
   "cell_type": "code",
   "execution_count": 60,
   "metadata": {},
   "outputs": [
    {
     "data": {
      "text/plain": [
       "<matplotlib.legend.Legend at 0x1abf7ac4828>"
      ]
     },
     "execution_count": 60,
     "metadata": {},
     "output_type": "execute_result"
    },
    {
     "data": {
      "image/png": "[encoded data removed]",
      "text/plain": [
       "<Figure size 432x288 with 1 Axes>"
      ]
     },
     "metadata": {
      "needs_background": "light"
     },
     "output_type": "display_data"
    }
   ],
   "source": [
    "sns.distplot(df.word_count[df.label == 'no_abuse'], color='b', label='No Abuse')\n",
    "sns.distplot(df.word_count[df.label == 'abuse'], color='r', label='Abuse')\n",
    "plt.xlim(0,200)\n",
    "plt.legend()"
   ]
  },
  {
   "cell_type": "markdown",
   "metadata": {},
   "source": [
    "## Upper case word counts"
   ]
  },
  {
   "cell_type": "code",
   "execution_count": 63,
   "metadata": {},
   "outputs": [
    {
     "data": {
      "text/plain": [
       "<matplotlib.axes._subplots.AxesSubplot at 0x1abe82d1a20>"
      ]
     },
     "execution_count": 63,
     "metadata": {},
     "output_type": "execute_result"
    },
    {
     "data": {
      "image/png": "[encoded data removed]",
      "text/plain": [
       "<Figure size 432x288 with 1 Axes>"
      ]
     },
     "metadata": {
      "needs_background": "light"
     },
     "output_type": "display_data"
    }
   ],
   "source": [
    "df = data[['label', 'upper_case_words']]\n",
    "\n",
    "sns.boxplot(y=\"label\", x=\"upper_case_words\", data = df)"
   ]
  },
  {
   "cell_type": "markdown",
   "metadata": {},
   "source": [
    "## Unique words count"
   ]
  },
  {
   "cell_type": "code",
   "execution_count": 62,
   "metadata": {},
   "outputs": [
    {
     "data": {
      "text/plain": [
       "<matplotlib.axes._subplots.AxesSubplot at 0x1abf190b5c0>"
      ]
     },
     "execution_count": 62,
     "metadata": {},
     "output_type": "execute_result"
    },
    {
     "data": {
      "image/png": "[encoded data removed]",
      "text/plain": [
       "<Figure size 432x288 with 1 Axes>"
      ]
     },
     "metadata": {
      "needs_background": "light"
     },
     "output_type": "display_data"
    }
   ],
   "source": [
    "df = data[['label', 'num_unique_words']]\n",
    "\n",
    "sns.boxplot(y=\"label\", x=\"num_unique_words\", data = df)"
   ]
  },
  {
   "cell_type": "markdown",
   "metadata": {},
   "source": [
    "## Unique words ratio"
   ]
  },
  {
   "cell_type": "code",
   "execution_count": 61,
   "metadata": {},
   "outputs": [
    {
     "data": {
      "text/plain": [
       "<matplotlib.axes._subplots.AxesSubplot at 0x1ab82ce9208>"
      ]
     },
     "execution_count": 61,
     "metadata": {},
     "output_type": "execute_result"
    },
    {
     "data": {
      "image/png": "[encoded data removed]",
      "text/plain": [
       "<Figure size 432x288 with 1 Axes>"
      ]
     },
     "metadata": {
      "needs_background": "light"
     },
     "output_type": "display_data"
    }
   ],
   "source": [
    "df = data[['label', 'unique_vs_words']] #.groupby('label')\n",
    "\n",
    "sns.boxplot(y=\"label\", x=\"unique_vs_words\", data = df)#, data=pd.melt(grp))"
   ]
  },
  {
   "cell_type": "markdown",
   "metadata": {},
   "source": [
    "## Be verb count"
   ]
  },
  {
   "cell_type": "code",
   "execution_count": 6,
   "metadata": {},
   "outputs": [
    {
     "data": {
      "text/plain": [
       "<AxesSubplot:xlabel='be_verb_count', ylabel='label'>"
      ]
     },
     "execution_count": 6,
     "metadata": {},
     "output_type": "execute_result"
    },
    {
     "data": {
      "image/png": "[encoded data removed]",
      "text/plain": [
       "<Figure size 432x288 with 1 Axes>"
      ]
     },
     "metadata": {
      "needs_background": "light"
     },
     "output_type": "display_data"
    }
   ],
   "source": [
    "df = data[['label', 'be_verb_count']] #.groupby('label')\n",
    "\n",
    "sns.boxplot(y=\"label\", x=\"be_verb_count\", data = df)#, data=pd.melt(grp))"
   ]
  },
  {
   "cell_type": "code",
   "execution_count": null,
   "metadata": {},
   "outputs": [],
   "source": []
  },
  {
   "cell_type": "code",
   "execution_count": 1,
   "metadata": {},
   "outputs": [],
   "source": [
    "import pandas as pd"
   ]
  },
  {
   "cell_type": "code",
   "execution_count": 2,
   "metadata": {},
   "outputs": [],
   "source": [
    "pd.set_option(\"display.max_colwidth\", 500)\n",
    "# ?pd.set_option"
   ]
  },
  {
   "cell_type": "code",
   "execution_count": 4,
   "metadata": {},
   "outputs": [],
   "source": [
    "data = pd.read_csv(r\"../cleaned_data/train_cleaned.csv\").sample(100000)"
   ]
  },
  {
   "cell_type": "code",
   "execution_count": 6,
   "metadata": {},
   "outputs": [
    {
     "data": {
      "text/plain": [
       "array(['no_abuse', 'abuse'], dtype=object)"
      ]
     },
     "execution_count": 6,
     "metadata": {},
     "output_type": "execute_result"
    }
   ],
   "source": [
    "data.label.unique()"
   ]
  },
  {
   "cell_type": "code",
   "execution_count": 7,
   "metadata": {},
   "outputs": [
    {
     "data": {
      "text/html": [
       "<div>\n",
       "<style scoped>\n",
       "    .dataframe tbody tr th:only-of-type {\n",
       "        vertical-align: middle;\n",
       "    }\n",
       "\n",
       "    .dataframe tbody tr th {\n",
       "        vertical-align: top;\n",
       "    }\n",
       "\n",
       "    .dataframe thead th {\n",
       "        text-align: right;\n",
       "    }\n",
       "</style>\n",
       "<table border=\"1\" class=\"dataframe\">\n",
       "  <thead>\n",
       "    <tr style=\"text-align: right;\">\n",
       "      <th></th>\n",
       "      <th>message</th>\n",
       "      <th>label</th>\n",
       "    </tr>\n",
       "  </thead>\n",
       "  <tbody>\n",
       "    <tr>\n",
       "      <th>343030</th>\n",
       "      <td>send any messages ok pricks</td>\n",
       "      <td>abuse</td>\n",
       "    </tr>\n",
       "    <tr>\n",
       "      <th>828181</th>\n",
       "      <td>haha mba grads are trained losers i could imagine trump saying or thinking this.</td>\n",
       "      <td>abuse</td>\n",
       "    </tr>\n",
       "    <tr>\n",
       "      <th>1618728</th>\n",
       "      <td>lets drive the stake through the heart of the logging industry and at the same time free abortions for all sounds like bernie won here and in a sense he did with this array of clown we have running things tighten your belts folks as it is only going to get worse.</td>\n",
       "      <td>abuse</td>\n",
       "    </tr>\n",
       "    <tr>\n",
       "      <th>997897</th>\n",
       "      <td>what a pile of horse doo doo check the stats the majority of shootings are conducted by black youth against black youth and it is not because they do not have the opportunities to improve their lot in life it is because they want to emulate what they see on t. big chains on their necks pants hanging below their anal opening and walking around with a big swagger.</td>\n",
       "      <td>abuse</td>\n",
       "    </tr>\n",
       "    <tr>\n",
       "      <th>1632231</th>\n",
       "      <td>we need another useless empty left wing statement like a hole in the head</td>\n",
       "      <td>abuse</td>\n",
       "    </tr>\n",
       "    <tr>\n",
       "      <th>361012</th>\n",
       "      <td>i am at home throwing up taking care of my kid yet i am a hoe oh oh okay.</td>\n",
       "      <td>abuse</td>\n",
       "    </tr>\n",
       "    <tr>\n",
       "      <th>1792214</th>\n",
       "      <td>this shit is fixing to blow my mind tony cannoli back in this bitch</td>\n",
       "      <td>abuse</td>\n",
       "    </tr>\n",
       "    <tr>\n",
       "      <th>347081</th>\n",
       "      <td>oh bullshit sullivan if it takes a train a mile to stop through this area or any other area known for problems i would say the train is traveling too fast slow the down a shole.</td>\n",
       "      <td>abuse</td>\n",
       "    </tr>\n",
       "    <tr>\n",
       "      <th>1861120</th>\n",
       "      <td>yes i did why would i not report it i also was with someone who reported a dog hanging from a rope around its neck from a tree in napskiack of course nothing was done i have pictures but they are to disgusting to show looks like the dog was beat before being left to hang to death.</td>\n",
       "      <td>abuse</td>\n",
       "    </tr>\n",
       "    <tr>\n",
       "      <th>1489976</th>\n",
       "      <td>you are as dumb as ever it was reagan who pushed the soviets to spend billions and billions on more things that all but bankrupted them so when countries like poland etc rebelled the russians had no way to enforce thier rule man take even a basic history course over your stupidity</td>\n",
       "      <td>abuse</td>\n",
       "    </tr>\n",
       "    <tr>\n",
       "      <th>756289</th>\n",
       "      <td>if you are a fan of these worthless rappers then you should be locked up in a cage where you cannot harm society this rap crap isnot even music but just coded words tha one idiot uses to communicate with another idiot.</td>\n",
       "      <td>abuse</td>\n",
       "    </tr>\n",
       "    <tr>\n",
       "      <th>795854</th>\n",
       "      <td>human garbage i submit to you that there are probably people in your life that you care a great deal about that smoke marijuana and you most certainly do not view them as human garbage . open your eyes wake up and quit being so darn judgmental for god sake</td>\n",
       "      <td>abuse</td>\n",
       "    </tr>\n",
       "    <tr>\n",
       "      <th>789930</th>\n",
       "      <td>ugly</td>\n",
       "      <td>abuse</td>\n",
       "    </tr>\n",
       "    <tr>\n",
       "      <th>279732</th>\n",
       "      <td>it will be too late the idiotic politicians and bureaucrats will be enjoying rich pensions in retirement.</td>\n",
       "      <td>abuse</td>\n",
       "    </tr>\n",
       "    <tr>\n",
       "      <th>662556</th>\n",
       "      <td>petronas is not stupid it was simply not economically viable at this time.</td>\n",
       "      <td>abuse</td>\n",
       "    </tr>\n",
       "    <tr>\n",
       "      <th>695021</th>\n",
       "      <td>make no mistake this mountain of debt that you talk about is created by our current donkey president no the in coming elephant president maybe you are totally twisting facts or just not remembering what are current debt is almost trillion dollars</td>\n",
       "      <td>abuse</td>\n",
       "    </tr>\n",
       "    <tr>\n",
       "      <th>783876</th>\n",
       "      <td>fuck wank cock pussy porn xxx sexual cum bastard suck boaby fanny clit bitch shit shite fuck wank cock pussy porn xxx sexual cum bastard suck boaby fanny clit bitch shit shite fuck wank cock pussy porn xxx sexual cum bastard suck boaby fanny clit bitch shit shite fuck wank cock pussy porn xxx sexual cum bastard suck boaby fanny clit bitch shit shite fuck wank cock pussy porn xxx sexual cum bastard suck boaby fanny clit bitch shit shite fuck wank cock pussy porn xxx sexual cum bastard suck bo...</td>\n",
       "      <td>abuse</td>\n",
       "    </tr>\n",
       "    <tr>\n",
       "      <th>795698</th>\n",
       "      <td>let me try to help out the trolls here this crime is not about the muslim ban the nra donald trump barak obama or the easter bunny it is about some loser killing his significant other may she rest in peace and may he rot in hell so sad that this happens so often in my state</td>\n",
       "      <td>abuse</td>\n",
       "    </tr>\n",
       "    <tr>\n",
       "      <th>1302455</th>\n",
       "      <td>stop changing my work listen you pimple faced punks vamp has been confirmed to return in mgs . stop changing my work.</td>\n",
       "      <td>abuse</td>\n",
       "    </tr>\n",
       "    <tr>\n",
       "      <th>1066400</th>\n",
       "      <td>go ahead jeff shoot you mouth off you will simply get the harry reid treatment.</td>\n",
       "      <td>abuse</td>\n",
       "    </tr>\n",
       "  </tbody>\n",
       "</table>\n",
       "</div>"
      ],
      "text/plain": [
       "                                                                                                                                                                                                                                                                                                                                                                                                                                                                                                                     message  \\\n",
       "343030                                                                                                                                                                                                                                                                                                                                                                                                                                                                                           send any messages ok pricks   \n",
       "828181                                                                                                                                                                                                                                                                                                                                                                                                                                      haha mba grads are trained losers i could imagine trump saying or thinking this.   \n",
       "1618728                                                                                                                                                                                                                                              lets drive the stake through the heart of the logging industry and at the same time free abortions for all sounds like bernie won here and in a sense he did with this array of clown we have running things tighten your belts folks as it is only going to get worse.   \n",
       "997897                                                                                                                                          what a pile of horse doo doo check the stats the majority of shootings are conducted by black youth against black youth and it is not because they do not have the opportunities to improve their lot in life it is because they want to emulate what they see on t. big chains on their necks pants hanging below their anal opening and walking around with a big swagger.   \n",
       "1632231                                                                                                                                                                                                                                                                                                                                                                                                                                            we need another useless empty left wing statement like a hole in the head   \n",
       "361012                                                                                                                                                                                                                                                                                                                                                                                                                                             i am at home throwing up taking care of my kid yet i am a hoe oh oh okay.   \n",
       "1792214                                                                                                                                                                                                                                                                                                                                                                                                                                                  this shit is fixing to blow my mind tony cannoli back in this bitch   \n",
       "347081                                                                                                                                                                                                                                                                                                                                     oh bullshit sullivan if it takes a train a mile to stop through this area or any other area known for problems i would say the train is traveling too fast slow the down a shole.   \n",
       "1861120                                                                                                                                                                                                                            yes i did why would i not report it i also was with someone who reported a dog hanging from a rope around its neck from a tree in napskiack of course nothing was done i have pictures but they are to disgusting to show looks like the dog was beat before being left to hang to death.   \n",
       "1489976                                                                                                                                                                                                                            you are as dumb as ever it was reagan who pushed the soviets to spend billions and billions on more things that all but bankrupted them so when countries like poland etc rebelled the russians had no way to enforce thier rule man take even a basic history course over your stupidity   \n",
       "756289                                                                                                                                                                                                                                                                                            if you are a fan of these worthless rappers then you should be locked up in a cage where you cannot harm society this rap crap isnot even music but just coded words tha one idiot uses to communicate with another idiot.   \n",
       "795854                                                                                                                                                                                                                                                     human garbage i submit to you that there are probably people in your life that you care a great deal about that smoke marijuana and you most certainly do not view them as human garbage . open your eyes wake up and quit being so darn judgmental for god sake    \n",
       "789930                                                                                                                                                                                                                                                                                                                                                                                                                                                                                                                  ugly   \n",
       "279732                                                                                                                                                                                                                                                                                                                                                                                                             it will be too late the idiotic politicians and bureaucrats will be enjoying rich pensions in retirement.   \n",
       "662556                                                                                                                                                                                                                                                                                                                                                                                                                                            petronas is not stupid it was simply not economically viable at this time.   \n",
       "695021                                                                                                                                                                                                                                                               make no mistake this mountain of debt that you talk about is created by our current donkey president no the in coming elephant president maybe you are totally twisting facts or just not remembering what are current debt is almost trillion dollars    \n",
       "783876   fuck wank cock pussy porn xxx sexual cum bastard suck boaby fanny clit bitch shit shite fuck wank cock pussy porn xxx sexual cum bastard suck boaby fanny clit bitch shit shite fuck wank cock pussy porn xxx sexual cum bastard suck boaby fanny clit bitch shit shite fuck wank cock pussy porn xxx sexual cum bastard suck boaby fanny clit bitch shit shite fuck wank cock pussy porn xxx sexual cum bastard suck boaby fanny clit bitch shit shite fuck wank cock pussy porn xxx sexual cum bastard suck bo...   \n",
       "795698                                                                                                                                                                                                                                   let me try to help out the trolls here this crime is not about the muslim ban the nra donald trump barak obama or the easter bunny it is about some loser killing his significant other may she rest in peace and may he rot in hell so sad that this happens so often in my state    \n",
       "1302455                                                                                                                                                                                                                                                                                                                                                                                                stop changing my work listen you pimple faced punks vamp has been confirmed to return in mgs . stop changing my work.   \n",
       "1066400                                                                                                                                                                                                                                                                                                                                                                                                                                      go ahead jeff shoot you mouth off you will simply get the harry reid treatment.   \n",
       "\n",
       "         label  \n",
       "343030   abuse  \n",
       "828181   abuse  \n",
       "1618728  abuse  \n",
       "997897   abuse  \n",
       "1632231  abuse  \n",
       "361012   abuse  \n",
       "1792214  abuse  \n",
       "347081   abuse  \n",
       "1861120  abuse  \n",
       "1489976  abuse  \n",
       "756289   abuse  \n",
       "795854   abuse  \n",
       "789930   abuse  \n",
       "279732   abuse  \n",
       "662556   abuse  \n",
       "695021   abuse  \n",
       "783876   abuse  \n",
       "795698   abuse  \n",
       "1302455  abuse  \n",
       "1066400  abuse  "
      ]
     },
     "execution_count": 7,
     "metadata": {},
     "output_type": "execute_result"
    }
   ],
   "source": [
    "data[data.label=='abuse'].head(20)"
   ]
  },
  {
   "cell_type": "code",
   "execution_count": null,
   "metadata": {},
   "outputs": [],
   "source": []
  },
  {
   "cell_type": "code",
   "execution_count": null,
   "metadata": {},
   "outputs": [],
   "source": []
  },
  {
   "cell_type": "code",
   "execution_count": null,
   "metadata": {},
   "outputs": [],
   "source": []
  },
  {
   "cell_type": "code",
   "execution_count": null,
   "metadata": {},
   "outputs": [],
   "source": []
  },
  {
   "cell_type": "code",
   "execution_count": null,
   "metadata": {},
   "outputs": [],
   "source": []
  }
 ],
 "metadata": {
  "kernelspec": {
   "display_name": "Python 3",
   "language": "python",
   "name": "python3"
  },
  "language_info": {
   "codemirror_mode": {
    "name": "ipython",
    "version": 3
   },
   "file_extension": ".py",
   "mimetype": "text/x-python",
   "name": "python",
   "nbconvert_exporter": "python",
   "pygments_lexer": "ipython3",
   "version": "3.6.12"
  }
 },
 "nbformat": 4,
 "nbformat_minor": 4
}
